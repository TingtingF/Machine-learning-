{
  "nbformat": 4,
  "nbformat_minor": 0,
  "metadata": {
    "colab": {
      "name": "HDL prediction.ipynb",
      "version": "0.3.2",
      "provenance": [],
      "collapsed_sections": []
    },
    "kernelspec": {
      "name": "python3",
      "display_name": "Python 3"
    }
  },
  "cells": [
    {
      "cell_type": "code",
      "metadata": {
        "id": "DoXVX9a4Jqrp",
        "colab_type": "code",
        "colab": {}
      },
      "source": [
        "# Basic\n",
        "import numpy as np\n",
        "import pandas as pd\n",
        "import sys\n",
        "import scipy\n",
        "import sklearn\n",
        "import matplotlib.pyplot as plt\n",
        "from matplotlib import rcParams\n",
        "from matplotlib.cm import rainbow\n",
        "%matplotlib inline\n",
        "import warnings\n",
        "warnings.filterwarnings('ignore')\n",
        "\n",
        "# Other libraries\n",
        "from sklearn.model_selection import train_test_split\n",
        "from sklearn.preprocessing import StandardScaler\n",
        "\n",
        "# Machine Learning\n",
        "from sklearn.neighbors import KNeighborsClassifier\n",
        "from sklearn.svm import SVC\n",
        "from sklearn.ensemble import RandomForestClassifier"
      ],
      "execution_count": 0,
      "outputs": []
    },
    {
      "cell_type": "markdown",
      "metadata": {
        "id": "IZD504QhpILo",
        "colab_type": "text"
      },
      "source": [
        "# Short introduction of variables in the dataset\n",
        "**Purpose: prediction of whether have High-Density Lipoprotein Cholesterol or not**\n",
        "\n",
        "The dataset is from the third wave of The Nord-Trøndelag Health Study.It is a unique database of questionnaire data, clinical measurements and samples from a county’s inhabitants from 1984 onwards. https://www.ntnu.edu/hunt\n",
        "\n",
        "\n",
        "*   Sex :women/men (0/1)\n",
        "*   BMI  :        Body Mass Index\n",
        "\n",
        "\n",
        "*   tri  :            Triglycerides \n",
        "*   CRP :         Serum micro C-reactive protein \n",
        "\n",
        "\n",
        "*   age  :         Age at participation at the start of the health survey\n",
        "*   dia  :          Diabetes diagnosis ( 0: No;1: Yes)\n",
        "\n",
        "*   smok :       Smoking status ( 0: Never smoked; 1:Ex smoker; 2:  Current smoker; 3:Occasionally smoker)\n",
        "*   hdl  :          High-Density Lipoprotein Cholesterol(whether reached the level for dianosis of metabolic syndrome). ( 0: No;1: Yes)\n",
        "\n",
        "\n",
        "\n",
        "*  phy   :       Level of physical activity ( 0:inactive; 1:active)\n",
        "*  alcohol:    Alcohol consumption  ( 0:  abstainers; 1:Light drinkers; 2:  Moderate drinkers; 3:Heavy drinkers) \n",
        "\n",
        "\n",
        "\n",
        "\n",
        "\n",
        "\n",
        "\n",
        "\n",
        "\n",
        "\n",
        "\n",
        "\n",
        "\n",
        "\n"
      ]
    },
    {
      "cell_type": "code",
      "metadata": {
        "id": "CdEODghyL9LC",
        "colab_type": "code",
        "outputId": "6fd13bac-0a99-404e-f10e-7dd074e9cee1",
        "colab": {
          "resources": {
            "http://localhost:8080/nbextensions/google.colab/files.js": {
              "data": "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",
              "ok": true,
              "headers": [
                [
                  "content-type",
                  "application/javascript"
                ]
              ],
              "status": 200,
              "status_text": ""
            }
          },
          "base_uri": "https://localhost:8080/",
          "height": 74
        }
      },
      "source": [
        "#Load local data files to Colaboratory\n",
        "\n",
        "from google.colab import files\n",
        "\n",
        "uploaded = files.upload()\n"
      ],
      "execution_count": 2,
      "outputs": [
        {
          "output_type": "display_data",
          "data": {
            "text/html": [
              "\n",
              "     <input type=\"file\" id=\"files-3d2a2800-d5f4-42fb-a2f2-68fee2cad4c7\" name=\"files[]\" multiple disabled />\n",
              "     <output id=\"result-3d2a2800-d5f4-42fb-a2f2-68fee2cad4c7\">\n",
              "      Upload widget is only available when the cell has been executed in the\n",
              "      current browser session. Please rerun this cell to enable.\n",
              "      </output>\n",
              "      <script src=\"/nbextensions/google.colab/files.js\"></script> "
            ],
            "text/plain": [
              "<IPython.core.display.HTML object>"
            ]
          },
          "metadata": {
            "tags": []
          }
        },
        {
          "output_type": "stream",
          "text": [
            "Saving diab.csv to diab.csv\n"
          ],
          "name": "stdout"
        }
      ]
    },
    {
      "cell_type": "code",
      "metadata": {
        "id": "E50a2SwTMnc2",
        "colab_type": "code",
        "outputId": "19b53916-58c9-4276-aa2b-a5e9fd00e566",
        "colab": {
          "base_uri": "https://localhost:8080/",
          "height": 33
        }
      },
      "source": [
        "# show the keys to access what I just uploaded.\n",
        "for fn in uploaded.keys():\n",
        "  print('User uploaded file \"{name}\" with length {length} bytes'.format(\n",
        "      name=fn, length=len(uploaded[fn])))"
      ],
      "execution_count": 3,
      "outputs": [
        {
          "output_type": "stream",
          "text": [
            "User uploaded file \"diab.csv\" with length 2993484 bytes\n"
          ],
          "name": "stdout"
        }
      ]
    },
    {
      "cell_type": "code",
      "metadata": {
        "id": "8lreLhG1R6jI",
        "colab_type": "code",
        "outputId": "501f4a2f-9042-4d69-eac9-8fdb127b003a",
        "colab": {
          "base_uri": "https://localhost:8080/",
          "height": 107
        }
      },
      "source": [
        "df = pd.read_csv(\"diab.csv\")\n",
        "df.head(2)"
      ],
      "execution_count": 5,
      "outputs": [
        {
          "output_type": "execute_result",
          "data": {
            "text/html": [
              "<div>\n",
              "<style scoped>\n",
              "    .dataframe tbody tr th:only-of-type {\n",
              "        vertical-align: middle;\n",
              "    }\n",
              "\n",
              "    .dataframe tbody tr th {\n",
              "        vertical-align: top;\n",
              "    }\n",
              "\n",
              "    .dataframe thead th {\n",
              "        text-align: right;\n",
              "    }\n",
              "</style>\n",
              "<table border=\"1\" class=\"dataframe\">\n",
              "  <thead>\n",
              "    <tr style=\"text-align: right;\">\n",
              "      <th></th>\n",
              "      <th>Unnamed: 0</th>\n",
              "      <th>Sex</th>\n",
              "      <th>BMI</th>\n",
              "      <th>tri</th>\n",
              "      <th>CRP</th>\n",
              "      <th>age</th>\n",
              "      <th>dia</th>\n",
              "      <th>smok</th>\n",
              "      <th>hdl</th>\n",
              "      <th>phy</th>\n",
              "      <th>alcohol</th>\n",
              "    </tr>\n",
              "  </thead>\n",
              "  <tbody>\n",
              "    <tr>\n",
              "      <th>0</th>\n",
              "      <td>1</td>\n",
              "      <td>Female</td>\n",
              "      <td>23.7</td>\n",
              "      <td>1.3</td>\n",
              "      <td>1.3</td>\n",
              "      <td>72.1</td>\n",
              "      <td>No</td>\n",
              "      <td>Never smoked</td>\n",
              "      <td>no</td>\n",
              "      <td>active</td>\n",
              "      <td>Light drinkers</td>\n",
              "    </tr>\n",
              "    <tr>\n",
              "      <th>1</th>\n",
              "      <td>2</td>\n",
              "      <td>Female</td>\n",
              "      <td>27.3</td>\n",
              "      <td>2.3</td>\n",
              "      <td>3.2</td>\n",
              "      <td>74.6</td>\n",
              "      <td>No</td>\n",
              "      <td>Ex smoker</td>\n",
              "      <td>yes</td>\n",
              "      <td>active</td>\n",
              "      <td>abstainers</td>\n",
              "    </tr>\n",
              "  </tbody>\n",
              "</table>\n",
              "</div>"
            ],
            "text/plain": [
              "   Unnamed: 0     Sex   BMI  tri  ...          smok  hdl     phy         alcohol\n",
              "0           1  Female  23.7  1.3  ...  Never smoked   no  active  Light drinkers\n",
              "1           2  Female  27.3  2.3  ...     Ex smoker  yes  active      abstainers\n",
              "\n",
              "[2 rows x 11 columns]"
            ]
          },
          "metadata": {
            "tags": []
          },
          "execution_count": 5
        }
      ]
    },
    {
      "cell_type": "markdown",
      "metadata": {
        "id": "VlMjHBz03PNO",
        "colab_type": "text"
      },
      "source": [
        "**Data Pre-Processing**"
      ]
    },
    {
      "cell_type": "code",
      "metadata": {
        "id": "iq_ZRqrelBLT",
        "colab_type": "code",
        "outputId": "bfd0b6cf-c934-4461-b76c-3a3dfa44ed83",
        "colab": {
          "base_uri": "https://localhost:8080/",
          "height": 196
        }
      },
      "source": [
        "df.Sex[df.Sex == 'Female'] = 0\n",
        "df.Sex[df.Sex == 'Male']   = 1\n",
        "\n",
        "df.dia[df.dia == 'No'] = 0\n",
        "df.dia[df.dia == 'Yes'] = 1\n",
        "\n",
        "df.smok[df.smok == 'Never smoked'] = 0\n",
        "df.smok[df.smok == 'Ex smoker'] = 1\n",
        "df.smok[df.smok == 'Current smoker'] = 2\n",
        "df.smok[df.smok == 'Occasionally smoker'] = 3\n",
        "\n",
        "df.hdl[df.hdl == 'no'] = 0\n",
        "df.hdl[df.hdl == 'yes'] = 1\n",
        "\n",
        "df.phy[df.phy == 'inactive'] = 0\n",
        "df.phy[df.phy == 'active'] = 1\n",
        "\n",
        "df.alcohol[df.alcohol == 'abstainers'] = 0\n",
        "df.alcohol[df.alcohol == 'Light drinkers'] = 1\n",
        "df.alcohol[df.alcohol == 'Moderate drinkers'] = 2\n",
        "df.alcohol[df.alcohol == 'Heavy drinkers'] = 3\n",
        "\n",
        "df.head()"
      ],
      "execution_count": 6,
      "outputs": [
        {
          "output_type": "execute_result",
          "data": {
            "text/html": [
              "<div>\n",
              "<style scoped>\n",
              "    .dataframe tbody tr th:only-of-type {\n",
              "        vertical-align: middle;\n",
              "    }\n",
              "\n",
              "    .dataframe tbody tr th {\n",
              "        vertical-align: top;\n",
              "    }\n",
              "\n",
              "    .dataframe thead th {\n",
              "        text-align: right;\n",
              "    }\n",
              "</style>\n",
              "<table border=\"1\" class=\"dataframe\">\n",
              "  <thead>\n",
              "    <tr style=\"text-align: right;\">\n",
              "      <th></th>\n",
              "      <th>Unnamed: 0</th>\n",
              "      <th>Sex</th>\n",
              "      <th>BMI</th>\n",
              "      <th>tri</th>\n",
              "      <th>CRP</th>\n",
              "      <th>age</th>\n",
              "      <th>dia</th>\n",
              "      <th>smok</th>\n",
              "      <th>hdl</th>\n",
              "      <th>phy</th>\n",
              "      <th>alcohol</th>\n",
              "    </tr>\n",
              "  </thead>\n",
              "  <tbody>\n",
              "    <tr>\n",
              "      <th>0</th>\n",
              "      <td>1</td>\n",
              "      <td>0</td>\n",
              "      <td>23.7</td>\n",
              "      <td>1.3</td>\n",
              "      <td>1.3</td>\n",
              "      <td>72.1</td>\n",
              "      <td>0</td>\n",
              "      <td>0</td>\n",
              "      <td>0</td>\n",
              "      <td>1</td>\n",
              "      <td>1</td>\n",
              "    </tr>\n",
              "    <tr>\n",
              "      <th>1</th>\n",
              "      <td>2</td>\n",
              "      <td>0</td>\n",
              "      <td>27.3</td>\n",
              "      <td>2.3</td>\n",
              "      <td>3.2</td>\n",
              "      <td>74.6</td>\n",
              "      <td>0</td>\n",
              "      <td>1</td>\n",
              "      <td>1</td>\n",
              "      <td>1</td>\n",
              "      <td>0</td>\n",
              "    </tr>\n",
              "    <tr>\n",
              "      <th>2</th>\n",
              "      <td>3</td>\n",
              "      <td>0</td>\n",
              "      <td>20.7</td>\n",
              "      <td>0.6</td>\n",
              "      <td>0.2</td>\n",
              "      <td>59.4</td>\n",
              "      <td>0</td>\n",
              "      <td>0</td>\n",
              "      <td>0</td>\n",
              "      <td>1</td>\n",
              "      <td>1</td>\n",
              "    </tr>\n",
              "    <tr>\n",
              "      <th>3</th>\n",
              "      <td>4</td>\n",
              "      <td>1</td>\n",
              "      <td>31.6</td>\n",
              "      <td>1.1</td>\n",
              "      <td>3.8</td>\n",
              "      <td>69.6</td>\n",
              "      <td>0</td>\n",
              "      <td>2</td>\n",
              "      <td>0</td>\n",
              "      <td>1</td>\n",
              "      <td>1</td>\n",
              "    </tr>\n",
              "    <tr>\n",
              "      <th>4</th>\n",
              "      <td>5</td>\n",
              "      <td>0</td>\n",
              "      <td>32.1</td>\n",
              "      <td>1.4</td>\n",
              "      <td>4.8</td>\n",
              "      <td>42.0</td>\n",
              "      <td>0</td>\n",
              "      <td>0</td>\n",
              "      <td>1</td>\n",
              "      <td>1</td>\n",
              "      <td>1</td>\n",
              "    </tr>\n",
              "  </tbody>\n",
              "</table>\n",
              "</div>"
            ],
            "text/plain": [
              "   Unnamed: 0 Sex   BMI  tri  CRP   age dia smok hdl phy alcohol\n",
              "0           1   0  23.7  1.3  1.3  72.1   0    0   0   1       1\n",
              "1           2   0  27.3  2.3  3.2  74.6   0    1   1   1       0\n",
              "2           3   0  20.7  0.6  0.2  59.4   0    0   0   1       1\n",
              "3           4   1  31.6  1.1  3.8  69.6   0    2   0   1       1\n",
              "4           5   0  32.1  1.4  4.8  42.0   0    0   1   1       1"
            ]
          },
          "metadata": {
            "tags": []
          },
          "execution_count": 6
        }
      ]
    },
    {
      "cell_type": "code",
      "metadata": {
        "id": "wf_wYYG4Xe8d",
        "colab_type": "code",
        "outputId": "97beae6a-9f2d-4383-af4b-609af4f0eae4",
        "colab": {
          "base_uri": "https://localhost:8080/",
          "height": 196
        }
      },
      "source": [
        "# Rename unnamed column \n",
        "\n",
        "df.rename( columns={'Unnamed: 0':'id'}, inplace=True )\n",
        "\n",
        "# delete id column\n",
        "del df['id']\n",
        "df.head()"
      ],
      "execution_count": 7,
      "outputs": [
        {
          "output_type": "execute_result",
          "data": {
            "text/html": [
              "<div>\n",
              "<style scoped>\n",
              "    .dataframe tbody tr th:only-of-type {\n",
              "        vertical-align: middle;\n",
              "    }\n",
              "\n",
              "    .dataframe tbody tr th {\n",
              "        vertical-align: top;\n",
              "    }\n",
              "\n",
              "    .dataframe thead th {\n",
              "        text-align: right;\n",
              "    }\n",
              "</style>\n",
              "<table border=\"1\" class=\"dataframe\">\n",
              "  <thead>\n",
              "    <tr style=\"text-align: right;\">\n",
              "      <th></th>\n",
              "      <th>Sex</th>\n",
              "      <th>BMI</th>\n",
              "      <th>tri</th>\n",
              "      <th>CRP</th>\n",
              "      <th>age</th>\n",
              "      <th>dia</th>\n",
              "      <th>smok</th>\n",
              "      <th>hdl</th>\n",
              "      <th>phy</th>\n",
              "      <th>alcohol</th>\n",
              "    </tr>\n",
              "  </thead>\n",
              "  <tbody>\n",
              "    <tr>\n",
              "      <th>0</th>\n",
              "      <td>0</td>\n",
              "      <td>23.7</td>\n",
              "      <td>1.3</td>\n",
              "      <td>1.3</td>\n",
              "      <td>72.1</td>\n",
              "      <td>0</td>\n",
              "      <td>0</td>\n",
              "      <td>0</td>\n",
              "      <td>1</td>\n",
              "      <td>1</td>\n",
              "    </tr>\n",
              "    <tr>\n",
              "      <th>1</th>\n",
              "      <td>0</td>\n",
              "      <td>27.3</td>\n",
              "      <td>2.3</td>\n",
              "      <td>3.2</td>\n",
              "      <td>74.6</td>\n",
              "      <td>0</td>\n",
              "      <td>1</td>\n",
              "      <td>1</td>\n",
              "      <td>1</td>\n",
              "      <td>0</td>\n",
              "    </tr>\n",
              "    <tr>\n",
              "      <th>2</th>\n",
              "      <td>0</td>\n",
              "      <td>20.7</td>\n",
              "      <td>0.6</td>\n",
              "      <td>0.2</td>\n",
              "      <td>59.4</td>\n",
              "      <td>0</td>\n",
              "      <td>0</td>\n",
              "      <td>0</td>\n",
              "      <td>1</td>\n",
              "      <td>1</td>\n",
              "    </tr>\n",
              "    <tr>\n",
              "      <th>3</th>\n",
              "      <td>1</td>\n",
              "      <td>31.6</td>\n",
              "      <td>1.1</td>\n",
              "      <td>3.8</td>\n",
              "      <td>69.6</td>\n",
              "      <td>0</td>\n",
              "      <td>2</td>\n",
              "      <td>0</td>\n",
              "      <td>1</td>\n",
              "      <td>1</td>\n",
              "    </tr>\n",
              "    <tr>\n",
              "      <th>4</th>\n",
              "      <td>0</td>\n",
              "      <td>32.1</td>\n",
              "      <td>1.4</td>\n",
              "      <td>4.8</td>\n",
              "      <td>42.0</td>\n",
              "      <td>0</td>\n",
              "      <td>0</td>\n",
              "      <td>1</td>\n",
              "      <td>1</td>\n",
              "      <td>1</td>\n",
              "    </tr>\n",
              "  </tbody>\n",
              "</table>\n",
              "</div>"
            ],
            "text/plain": [
              "  Sex   BMI  tri  CRP   age dia smok hdl phy alcohol\n",
              "0   0  23.7  1.3  1.3  72.1   0    0   0   1       1\n",
              "1   0  27.3  2.3  3.2  74.6   0    1   1   1       0\n",
              "2   0  20.7  0.6  0.2  59.4   0    0   0   1       1\n",
              "3   1  31.6  1.1  3.8  69.6   0    2   0   1       1\n",
              "4   0  32.1  1.4  4.8  42.0   0    0   1   1       1"
            ]
          },
          "metadata": {
            "tags": []
          },
          "execution_count": 7
        }
      ]
    },
    {
      "cell_type": "code",
      "metadata": {
        "id": "RN9Akcyot75l",
        "colab_type": "code",
        "outputId": "2cc1793f-3061-4125-da95-1c20c4f5f983",
        "colab": {
          "base_uri": "https://localhost:8080/",
          "height": 33
        }
      },
      "source": [
        "#check number of rows and columns in dataset\n",
        "df.shape"
      ],
      "execution_count": 8,
      "outputs": [
        {
          "output_type": "execute_result",
          "data": {
            "text/plain": [
              "(35049, 10)"
            ]
          },
          "metadata": {
            "tags": []
          },
          "execution_count": 8
        }
      ]
    },
    {
      "cell_type": "code",
      "metadata": {
        "id": "yfwDlAR4SwrL",
        "colab_type": "code",
        "outputId": "aba35478-e47f-4cbf-a6e6-01691f553648",
        "colab": {
          "base_uri": "https://localhost:8080/",
          "height": 201
        }
      },
      "source": [
        "#check the types of each column \n",
        "df.dtypes"
      ],
      "execution_count": 9,
      "outputs": [
        {
          "output_type": "execute_result",
          "data": {
            "text/plain": [
              "Sex         object\n",
              "BMI        float64\n",
              "tri        float64\n",
              "CRP        float64\n",
              "age        float64\n",
              "dia         object\n",
              "smok        object\n",
              "hdl         object\n",
              "phy         object\n",
              "alcohol     object\n",
              "dtype: object"
            ]
          },
          "metadata": {
            "tags": []
          },
          "execution_count": 9
        }
      ]
    },
    {
      "cell_type": "code",
      "metadata": {
        "id": "hg1o1Z9_oaPH",
        "colab_type": "code",
        "colab": {}
      },
      "source": [
        "#Convert String Column to Numeric\n",
        "\n",
        "cols = ['Sex','dia', 'smok', 'hdl', 'phy', 'alcohol']  # We don't want to convert the Final grade column.\n",
        "for col in cols:  # Iterate over chosen columns\n",
        "\tdf[col] = pd.to_numeric(df[col])"
      ],
      "execution_count": 0,
      "outputs": []
    },
    {
      "cell_type": "markdown",
      "metadata": {
        "id": "3N9nWt1p3Wa1",
        "colab_type": "text"
      },
      "source": [
        "**Data Exploration**"
      ]
    },
    {
      "cell_type": "code",
      "metadata": {
        "id": "Y4xvXjouTIuO",
        "colab_type": "code",
        "outputId": "ead51e26-e2cd-4b51-887d-7a17659a9398",
        "colab": {
          "base_uri": "https://localhost:8080/",
          "height": 297
        }
      },
      "source": [
        "df.describe()"
      ],
      "execution_count": 0,
      "outputs": [
        {
          "output_type": "execute_result",
          "data": {
            "text/html": [
              "<div>\n",
              "<style scoped>\n",
              "    .dataframe tbody tr th:only-of-type {\n",
              "        vertical-align: middle;\n",
              "    }\n",
              "\n",
              "    .dataframe tbody tr th {\n",
              "        vertical-align: top;\n",
              "    }\n",
              "\n",
              "    .dataframe thead th {\n",
              "        text-align: right;\n",
              "    }\n",
              "</style>\n",
              "<table border=\"1\" class=\"dataframe\">\n",
              "  <thead>\n",
              "    <tr style=\"text-align: right;\">\n",
              "      <th></th>\n",
              "      <th>Sex</th>\n",
              "      <th>BMI</th>\n",
              "      <th>tri</th>\n",
              "      <th>CRP</th>\n",
              "      <th>age</th>\n",
              "      <th>dia</th>\n",
              "      <th>smok</th>\n",
              "      <th>hdl</th>\n",
              "      <th>phy</th>\n",
              "      <th>alcohol</th>\n",
              "    </tr>\n",
              "  </thead>\n",
              "  <tbody>\n",
              "    <tr>\n",
              "      <th>count</th>\n",
              "      <td>35049.000000</td>\n",
              "      <td>35049.000000</td>\n",
              "      <td>35049.000000</td>\n",
              "      <td>35049.000000</td>\n",
              "      <td>35049.000000</td>\n",
              "      <td>35049.000000</td>\n",
              "      <td>35049.000000</td>\n",
              "      <td>35049.000000</td>\n",
              "      <td>35049.000000</td>\n",
              "      <td>35049.000000</td>\n",
              "    </tr>\n",
              "    <tr>\n",
              "      <th>mean</th>\n",
              "      <td>0.439756</td>\n",
              "      <td>27.150036</td>\n",
              "      <td>1.623088</td>\n",
              "      <td>2.635228</td>\n",
              "      <td>53.068638</td>\n",
              "      <td>0.042483</td>\n",
              "      <td>0.879882</td>\n",
              "      <td>0.295301</td>\n",
              "      <td>0.799310</td>\n",
              "      <td>1.017147</td>\n",
              "    </tr>\n",
              "    <tr>\n",
              "      <th>std</th>\n",
              "      <td>0.496364</td>\n",
              "      <td>4.372168</td>\n",
              "      <td>0.991354</td>\n",
              "      <td>5.535303</td>\n",
              "      <td>15.038895</td>\n",
              "      <td>0.201692</td>\n",
              "      <td>0.928638</td>\n",
              "      <td>0.456184</td>\n",
              "      <td>0.400523</td>\n",
              "      <td>0.662455</td>\n",
              "    </tr>\n",
              "    <tr>\n",
              "      <th>min</th>\n",
              "      <td>0.000000</td>\n",
              "      <td>12.100000</td>\n",
              "      <td>0.200000</td>\n",
              "      <td>0.000000</td>\n",
              "      <td>19.100000</td>\n",
              "      <td>0.000000</td>\n",
              "      <td>0.000000</td>\n",
              "      <td>0.000000</td>\n",
              "      <td>0.000000</td>\n",
              "      <td>0.000000</td>\n",
              "    </tr>\n",
              "    <tr>\n",
              "      <th>25%</th>\n",
              "      <td>0.000000</td>\n",
              "      <td>24.100000</td>\n",
              "      <td>1.000000</td>\n",
              "      <td>0.600000</td>\n",
              "      <td>42.200000</td>\n",
              "      <td>0.000000</td>\n",
              "      <td>0.000000</td>\n",
              "      <td>0.000000</td>\n",
              "      <td>1.000000</td>\n",
              "      <td>1.000000</td>\n",
              "    </tr>\n",
              "    <tr>\n",
              "      <th>50%</th>\n",
              "      <td>0.000000</td>\n",
              "      <td>26.600000</td>\n",
              "      <td>1.400000</td>\n",
              "      <td>1.200000</td>\n",
              "      <td>53.700000</td>\n",
              "      <td>0.000000</td>\n",
              "      <td>1.000000</td>\n",
              "      <td>0.000000</td>\n",
              "      <td>1.000000</td>\n",
              "      <td>1.000000</td>\n",
              "    </tr>\n",
              "    <tr>\n",
              "      <th>75%</th>\n",
              "      <td>1.000000</td>\n",
              "      <td>29.600000</td>\n",
              "      <td>2.000000</td>\n",
              "      <td>2.700000</td>\n",
              "      <td>63.700000</td>\n",
              "      <td>0.000000</td>\n",
              "      <td>1.000000</td>\n",
              "      <td>1.000000</td>\n",
              "      <td>1.000000</td>\n",
              "      <td>1.000000</td>\n",
              "    </tr>\n",
              "    <tr>\n",
              "      <th>max</th>\n",
              "      <td>1.000000</td>\n",
              "      <td>55.000000</td>\n",
              "      <td>22.600000</td>\n",
              "      <td>160.100000</td>\n",
              "      <td>96.900000</td>\n",
              "      <td>1.000000</td>\n",
              "      <td>3.000000</td>\n",
              "      <td>1.000000</td>\n",
              "      <td>1.000000</td>\n",
              "      <td>3.000000</td>\n",
              "    </tr>\n",
              "  </tbody>\n",
              "</table>\n",
              "</div>"
            ],
            "text/plain": [
              "                Sex           BMI  ...           phy       alcohol\n",
              "count  35049.000000  35049.000000  ...  35049.000000  35049.000000\n",
              "mean       0.439756     27.150036  ...      0.799310      1.017147\n",
              "std        0.496364      4.372168  ...      0.400523      0.662455\n",
              "min        0.000000     12.100000  ...      0.000000      0.000000\n",
              "25%        0.000000     24.100000  ...      1.000000      1.000000\n",
              "50%        0.000000     26.600000  ...      1.000000      1.000000\n",
              "75%        1.000000     29.600000  ...      1.000000      1.000000\n",
              "max        1.000000     55.000000  ...      1.000000      3.000000\n",
              "\n",
              "[8 rows x 10 columns]"
            ]
          },
          "metadata": {
            "tags": []
          },
          "execution_count": 13
        }
      ]
    },
    {
      "cell_type": "code",
      "metadata": {
        "id": "WoQ5k7HhUjho",
        "colab_type": "code",
        "outputId": "fe77f166-e3ea-418b-a01a-12df78f57f41",
        "colab": {
          "base_uri": "https://localhost:8080/",
          "height": 272
        }
      },
      "source": [
        "df.info()"
      ],
      "execution_count": 0,
      "outputs": [
        {
          "output_type": "stream",
          "text": [
            "<class 'pandas.core.frame.DataFrame'>\n",
            "RangeIndex: 35049 entries, 0 to 35048\n",
            "Data columns (total 10 columns):\n",
            "Sex        35049 non-null int64\n",
            "BMI        35049 non-null float64\n",
            "tri        35049 non-null float64\n",
            "CRP        35049 non-null float64\n",
            "age        35049 non-null float64\n",
            "dia        35049 non-null int64\n",
            "smok       35049 non-null int64\n",
            "hdl        35049 non-null int64\n",
            "phy        35049 non-null int64\n",
            "alcohol    35049 non-null int64\n",
            "dtypes: float64(4), int64(6)\n",
            "memory usage: 2.7 MB\n"
          ],
          "name": "stdout"
        }
      ]
    },
    {
      "cell_type": "code",
      "metadata": {
        "id": "DpcGBPFAuOIP",
        "colab_type": "code",
        "outputId": "33902e20-5292-4ba3-8ffe-3fffead288b4",
        "colab": {
          "base_uri": "https://localhost:8080/",
          "height": 502
        }
      },
      "source": [
        "# histogram :representation of the distribution of numerical data\n",
        "df.hist()"
      ],
      "execution_count": 0,
      "outputs": [
        {
          "output_type": "execute_result",
          "data": {
            "text/plain": [
              "array([[<matplotlib.axes._subplots.AxesSubplot object at 0x7fa7ea485438>,\n",
              "        <matplotlib.axes._subplots.AxesSubplot object at 0x7fa7ea3e9048>,\n",
              "        <matplotlib.axes._subplots.AxesSubplot object at 0x7fa7ea38f588>],\n",
              "       [<matplotlib.axes._subplots.AxesSubplot object at 0x7fa7ea334b00>,\n",
              "        <matplotlib.axes._subplots.AxesSubplot object at 0x7fa7ea3680b8>,\n",
              "        <matplotlib.axes._subplots.AxesSubplot object at 0x7fa7ea30e630>],\n",
              "       [<matplotlib.axes._subplots.AxesSubplot object at 0x7fa7ea2b4b38>,\n",
              "        <matplotlib.axes._subplots.AxesSubplot object at 0x7fa7ea2e4128>,\n",
              "        <matplotlib.axes._subplots.AxesSubplot object at 0x7fa7ea2e4160>],\n",
              "       [<matplotlib.axes._subplots.AxesSubplot object at 0x7fa7ea2aebe0>,\n",
              "        <matplotlib.axes._subplots.AxesSubplot object at 0x7fa7ea262198>,\n",
              "        <matplotlib.axes._subplots.AxesSubplot object at 0x7fa7ea205710>]],\n",
              "      dtype=object)"
            ]
          },
          "metadata": {
            "tags": []
          },
          "execution_count": 15
        },
        {
          "output_type": "display_data",
          "data": {
            "image/png": "[encoded data removed]",
            "text/plain": [
              "<Figure size 432x288 with 12 Axes>"
            ]
          },
          "metadata": {
            "tags": []
          }
        }
      ]
    },
    {
      "cell_type": "code",
      "metadata": {
        "id": "0SPf3SkNZEGg",
        "colab_type": "code",
        "outputId": "f0bbba28-4446-440c-ddfb-8096a398f6dd",
        "colab": {
          "base_uri": "https://localhost:8080/",
          "height": 837
        }
      },
      "source": [
        "#correlation matrix showing correlation coefficients between variables.\n",
        "\n",
        "rcParams['figure.figsize'] = 20, 14\n",
        "plt.matshow(df.corr())\n",
        "plt.yticks(np.arange(df.shape[1]), df.columns)\n",
        "plt.xticks(np.arange(df.shape[1]), df.columns)\n",
        "plt.colorbar()"
      ],
      "execution_count": 0,
      "outputs": [
        {
          "output_type": "execute_result",
          "data": {
            "text/plain": [
              "<matplotlib.colorbar.Colorbar at 0x7f762152b860>"
            ]
          },
          "metadata": {
            "tags": []
          },
          "execution_count": 73
        },
        {
          "output_type": "display_data",
          "data": {
            "image/png": "[encoded data removed]",
            "text/plain": [
              "<Figure size 1008x1008 with 2 Axes>"
            ]
          },
          "metadata": {
            "tags": []
          }
        }
      ]
    },
    {
      "cell_type": "code",
      "metadata": {
        "id": "xR_rT0-lzfR0",
        "colab_type": "code",
        "outputId": "89577c10-f859-4676-bf8a-d2f48eee37d1",
        "colab": {
          "base_uri": "https://localhost:8080/",
          "height": 288
        }
      },
      "source": [
        "import numpy as np\n",
        "import pandas as pd\n",
        "import sys\n",
        "import matplotlib.pyplot as plt\n",
        "import statsmodels.api as sm\n",
        "from pandas.plotting import scatter_matrix\n",
        "\n",
        "scatter_matrix(df)\n",
        "plt.show()"
      ],
      "execution_count": 0,
      "outputs": [
        {
          "output_type": "display_data",
          "data": {
            "image/png": "[encoded data removed]",
            "text/plain": [
              "<Figure size 432x288 with 100 Axes>"
            ]
          },
          "metadata": {
            "tags": []
          }
        }
      ]
    },
    {
      "cell_type": "code",
      "metadata": {
        "id": "YeIGpX4UunHu",
        "colab_type": "code",
        "colab": {}
      },
      "source": [
        "#  scale  dataset.\n",
        "standardScaler = StandardScaler()\n",
        "columns_to_scale = ['BMI', 'CRP', 'age', 'tri']\n",
        "df[columns_to_scale] = standardScaler.fit_transform(df[columns_to_scale])"
      ],
      "execution_count": 0,
      "outputs": []
    },
    {
      "cell_type": "code",
      "metadata": {
        "id": "9_I3JF2-G2K2",
        "colab_type": "code",
        "colab": {}
      },
      "source": [
        "from pandas.plotting import scatter_matrix\n",
        "import matplotlib.pyplot as plt\n",
        "from sklearn import model_selection\n",
        "from sklearn.metrics import classification_report\n",
        "from sklearn.metrics import confusion_matrix\n",
        "from sklearn.metrics import accuracy_score\n",
        "from sklearn.linear_model import LogisticRegression\n",
        "from sklearn.tree import DecisionTreeClassifier\n",
        "from sklearn.neighbors import KNeighborsClassifier\n",
        "from sklearn.discriminant_analysis import LinearDiscriminantAnalysis\n",
        "from sklearn.naive_bayes import GaussianNB\n",
        "from sklearn.svm import SVC"
      ],
      "execution_count": 0,
      "outputs": []
    },
    {
      "cell_type": "code",
      "metadata": {
        "id": "ZTJmJsCi7CNH",
        "colab_type": "code",
        "colab": {}
      },
      "source": [
        "# Train/Test Split\n",
        "from sklearn.model_selection import train_test_split"
      ],
      "execution_count": 0,
      "outputs": []
    },
    {
      "cell_type": "markdown",
      "metadata": {
        "id": "m-T4hzPTMoHf",
        "colab_type": "text"
      },
      "source": [
        "\n",
        "**Description of chosen methods.** \n",
        "\n",
        "\n",
        "\n",
        "\n",
        "*  K-Nearest Neighbors. An object is classified by a majority vote of its neighbors, with the object being assigned to the class most common among its k nearest neighbors (k is a positive integer, typically small). If k = 1, then the object is simply assigned to the class of that single nearest neighbor.\n",
        "\n",
        "\n",
        "* Logistic regression produces a logistic curve, which is limited to values between 0 and 1.Logistic regression is similar to a linear regression, but the curve is constructed using the natural logarithm of the “odds” of the target variable, rather than the probability. Moreover, the predictors do not have to be normally distributed or have equal variance in each group.\n",
        "\n",
        "\n",
        "* Support vector machine algorithm is to find a hyperplane in an N-dimensional space(N — the number of features) that distinctly classifies the data points.\n",
        "\n",
        "\n",
        "* A Random Forest is an ensemble technique capable of performing both regression and classification tasks with the use of multiple decision trees and a technique called Bootstrap Aggregation, commonly known as bagging.  Bagging, in the Random Forest method, involves training each decision tree on a different data sample where sampling is done with replacement.\n",
        "\n",
        "\n",
        "\n",
        "\n",
        "\n",
        "\n",
        "\n",
        "\n"
      ]
    },
    {
      "cell_type": "markdown",
      "metadata": {
        "id": "A4otqS0Ms9HL",
        "colab_type": "text"
      },
      "source": [
        "**What parameters are important to optimize for the chosen ML methods?**\n",
        "\n",
        "\n",
        "1. There is no ideal value for K and it is selected after testing and evaluation, however to start out, 5 seems to be the most commonly used value for KNN algorithm.\n",
        "2.   Logistic Regression uses maximum likelihood estimation (MLE) rather than ordinary least squares (OLS) to estimate the parameters, therefore its predictions depend upon large-sample approximations.\n",
        "3. Following are the important parameters for SVM-1]C:It controls the trade off between smooth decision boundary and classifying training points correctly. A large value of c means you will get more training points correctly.2]Gamma:It defines how far the influence of a single training example reaches. If it has a low value it means that every point has a far reach and conversely high value of gamma means that every point has close reach.\n",
        "4. Random forest: n_estimators represents the number of trees in the forest. Usually the higher the number of trees the better to learn the data.max_depth represents the depth of each tree in the forest. The deeper the tree, the more splits it has and it captures more information about the data.min_samples_split represents the minimum number of samples required to split an internal node. This can vary between considering at least one sample at each node to considering all of the samples at each node. When we increase this parameter, each tree in the forest becomes more constrained as it has to consider more samples at each node.\n",
        "\n",
        "**Which performance measures are used?**\n",
        "Accuracy score: one metric for evaluating classification models.Accuracy is the fraction of predictions our model got right. \n",
        "\n"
      ]
    },
    {
      "cell_type": "code",
      "metadata": {
        "id": "qACSAXpHIJsL",
        "colab_type": "code",
        "colab": {
          "base_uri": "https://localhost:8080/",
          "height": 196
        },
        "outputId": "531b8156-86c9-4197-9269-7b7375417303"
      },
      "source": [
        "# Set X as new DataFrame without the occupation columns or the Y target\n",
        "X = df.drop(['hdl'],axis=1)\n",
        "X.head()"
      ],
      "execution_count": 125,
      "outputs": [
        {
          "output_type": "execute_result",
          "data": {
            "text/html": [
              "<div>\n",
              "<style scoped>\n",
              "    .dataframe tbody tr th:only-of-type {\n",
              "        vertical-align: middle;\n",
              "    }\n",
              "\n",
              "    .dataframe tbody tr th {\n",
              "        vertical-align: top;\n",
              "    }\n",
              "\n",
              "    .dataframe thead th {\n",
              "        text-align: right;\n",
              "    }\n",
              "</style>\n",
              "<table border=\"1\" class=\"dataframe\">\n",
              "  <thead>\n",
              "    <tr style=\"text-align: right;\">\n",
              "      <th></th>\n",
              "      <th>Sex</th>\n",
              "      <th>BMI</th>\n",
              "      <th>tri</th>\n",
              "      <th>CRP</th>\n",
              "      <th>age</th>\n",
              "      <th>dia</th>\n",
              "      <th>smok</th>\n",
              "      <th>phy</th>\n",
              "      <th>alcohol</th>\n",
              "    </tr>\n",
              "  </thead>\n",
              "  <tbody>\n",
              "    <tr>\n",
              "      <th>0</th>\n",
              "      <td>0</td>\n",
              "      <td>-0.789102</td>\n",
              "      <td>-0.325910</td>\n",
              "      <td>-0.241224</td>\n",
              "      <td>1.265494</td>\n",
              "      <td>0</td>\n",
              "      <td>0</td>\n",
              "      <td>1</td>\n",
              "      <td>1</td>\n",
              "    </tr>\n",
              "    <tr>\n",
              "      <th>1</th>\n",
              "      <td>0</td>\n",
              "      <td>0.034300</td>\n",
              "      <td>0.682825</td>\n",
              "      <td>0.102032</td>\n",
              "      <td>1.431732</td>\n",
              "      <td>0</td>\n",
              "      <td>1</td>\n",
              "      <td>1</td>\n",
              "      <td>0</td>\n",
              "    </tr>\n",
              "    <tr>\n",
              "      <th>2</th>\n",
              "      <td>0</td>\n",
              "      <td>-1.475270</td>\n",
              "      <td>-1.032025</td>\n",
              "      <td>-0.439951</td>\n",
              "      <td>0.421005</td>\n",
              "      <td>0</td>\n",
              "      <td>0</td>\n",
              "      <td>1</td>\n",
              "      <td>1</td>\n",
              "    </tr>\n",
              "    <tr>\n",
              "      <th>3</th>\n",
              "      <td>1</td>\n",
              "      <td>1.017808</td>\n",
              "      <td>-0.527657</td>\n",
              "      <td>0.210429</td>\n",
              "      <td>1.099256</td>\n",
              "      <td>0</td>\n",
              "      <td>2</td>\n",
              "      <td>1</td>\n",
              "      <td>1</td>\n",
              "    </tr>\n",
              "    <tr>\n",
              "      <th>4</th>\n",
              "      <td>0</td>\n",
              "      <td>1.132169</td>\n",
              "      <td>-0.225036</td>\n",
              "      <td>0.391090</td>\n",
              "      <td>-0.736011</td>\n",
              "      <td>0</td>\n",
              "      <td>0</td>\n",
              "      <td>1</td>\n",
              "      <td>1</td>\n",
              "    </tr>\n",
              "  </tbody>\n",
              "</table>\n",
              "</div>"
            ],
            "text/plain": [
              "   Sex       BMI       tri       CRP       age  dia  smok  phy  alcohol\n",
              "0    0 -0.789102 -0.325910 -0.241224  1.265494    0     0    1        1\n",
              "1    0  0.034300  0.682825  0.102032  1.431732    0     1    1        0\n",
              "2    0 -1.475270 -1.032025 -0.439951  0.421005    0     0    1        1\n",
              "3    1  1.017808 -0.527657  0.210429  1.099256    0     2    1        1\n",
              "4    0  1.132169 -0.225036  0.391090 -0.736011    0     0    1        1"
            ]
          },
          "metadata": {
            "tags": []
          },
          "execution_count": 125
        }
      ]
    },
    {
      "cell_type": "code",
      "metadata": {
        "id": "7Uf51QIdMCcM",
        "colab_type": "code",
        "colab": {
          "base_uri": "https://localhost:8080/",
          "height": 117
        },
        "outputId": "23059d29-7907-4247-b2f4-928c9e09b2b2"
      },
      "source": [
        "# Set Y as Target class, \n",
        "\n",
        "y = df['hdl']\n",
        "\n",
        "# Preview\n",
        "y.head()"
      ],
      "execution_count": 126,
      "outputs": [
        {
          "output_type": "execute_result",
          "data": {
            "text/plain": [
              "0    0\n",
              "1    1\n",
              "2    0\n",
              "3    0\n",
              "4    1\n",
              "Name: hdl, dtype: int64"
            ]
          },
          "metadata": {
            "tags": []
          },
          "execution_count": 126
        }
      ]
    },
    {
      "cell_type": "code",
      "metadata": {
        "id": "rZLk-IVw7RO_",
        "colab_type": "code",
        "outputId": "28cc1076-a5fe-4cb5-d041-dba80ede31a0",
        "colab": {
          "base_uri": "https://localhost:8080/",
          "height": 50
        }
      },
      "source": [
        "# create training and testing vars\n",
        "X_train, X_test, y_train, y_test = train_test_split(X, y, test_size = 0.3, random_state=12345)\n",
        "print (X_train.shape, y_train.shape)\n",
        "print (X_test.shape, y_test.shape)"
      ],
      "execution_count": 127,
      "outputs": [
        {
          "output_type": "stream",
          "text": [
            "(24534, 9) (24534,)\n",
            "(10515, 9) (10515,)\n"
          ],
          "name": "stdout"
        }
      ]
    },
    {
      "cell_type": "markdown",
      "metadata": {
        "id": "Zh1oHZcdEkfF",
        "colab_type": "text"
      },
      "source": [
        "**K-Fold Cross Validation**\n",
        "\n",
        "In K Fold cross validation, the data is divided into k subsets. Now the holdout method is repeated k times, such that each time, one of the k subsets is used as the test set/ validation set and the other k-1 subsets are put together to form a training set. The error estimation is averaged over all k trials to get total effectiveness of our model. As a general rule and empirical evidence, K = 5 or 10 is generally preferred.\n",
        "\n",
        "** The data split to avoid similar examples in training and validation?**\n",
        "\n",
        "The data was split randomly to avoid similar exmaples in training and validation\n"
      ]
    },
    {
      "cell_type": "markdown",
      "metadata": {
        "id": "wHUB_JR135Mc",
        "colab_type": "text"
      },
      "source": [
        "**K nearest neighbors**"
      ]
    },
    {
      "cell_type": "code",
      "metadata": {
        "id": "rsYJV_vIu0KH",
        "colab_type": "code",
        "outputId": "6fcd6d75-1247-4472-9ca7-9decd9bda370",
        "colab": {
          "base_uri": "https://localhost:8080/",
          "height": 33
        }
      },
      "source": [
        "#In order to train and test our model using cross-validation, \n",
        "#I will use the ‘cross_val_score’ function with a cross-validation value of 5. \n",
        "#‘cross_val_score’ takes in the k-NN model and the data as parameters. \n",
        "# Then it splits the data into 5 groups and fits and scores the data 5 seperate times, \n",
        "# recording the accuracy score in an array each time. \n",
        "# Then save the accuracy scores in the ‘cv_scores’ variable.\n",
        "from sklearn.model_selection import cross_val_score\n",
        "\n",
        "#create a KNN model\n",
        "knn_cv = KNeighborsClassifier(n_neighbors=5)\n",
        "\n",
        "#train model with cv of 5 \n",
        "cv_scores = cross_val_score(knn_cv,X_train, y_train, cv=5)\n",
        "\n",
        "#print each cv score (accuracy) \n",
        "print(cv_scores)"
      ],
      "execution_count": 128,
      "outputs": [
        {
          "output_type": "stream",
          "text": [
            "[0.73120033 0.71775015 0.71184023 0.7144895  0.72176926]\n"
          ],
          "name": "stdout"
        }
      ]
    },
    {
      "cell_type": "code",
      "metadata": {
        "id": "RBY6TCEVv1pP",
        "colab_type": "code",
        "outputId": "fb7ba088-0798-4c7b-dfee-d137ea6d93e6",
        "colab": {
          "base_uri": "https://localhost:8080/",
          "height": 33
        }
      },
      "source": [
        "# find the average of the 5 scores \n",
        "ave_knn = np.mean(cv_scores)\n",
        "print(ave_knn)"
      ],
      "execution_count": 129,
      "outputs": [
        {
          "output_type": "stream",
          "text": [
            "0.719409894814026\n"
          ],
          "name": "stdout"
        }
      ]
    },
    {
      "cell_type": "code",
      "metadata": {
        "id": "34T6m-HD9NSf",
        "colab_type": "code",
        "colab": {}
      },
      "source": [
        "# Fit (i.e. traing) the model\n",
        "knn_cv.fit(X_train, y_train)\n",
        "pred = knn_cv.predict(X_test)"
      ],
      "execution_count": 0,
      "outputs": []
    },
    {
      "cell_type": "code",
      "metadata": {
        "id": "7l4JCVzeX9rQ",
        "colab_type": "code",
        "colab": {
          "base_uri": "https://localhost:8080/",
          "height": 117
        },
        "outputId": "f60770ce-0f9d-40ac-8863-0ec7351a1030"
      },
      "source": [
        "# Print out confusion matrix\n",
        "cmat = confusion_matrix(y_test, pred)\n",
        "#print(cmat)\n",
        "print('TP - True Negative {}'.format(cmat[0,0]))\n",
        "print('FP - False Positive {}'.format(cmat[0,1]))\n",
        "print('FN - False Negative {}'.format(cmat[1,0]))\n",
        "print('TP - True Positive {}'.format(cmat[1,1]))\n",
        "print('Accuracy Rate: {}'.format(np.divide(np.sum([cmat[0,0],cmat[1,1]]),np.sum(cmat))))\n",
        "print('Misclassification Rate: {}'.format(np.divide(np.sum([cmat[0,1],cmat[1,0]]),np.sum(cmat))))"
      ],
      "execution_count": 131,
      "outputs": [
        {
          "output_type": "stream",
          "text": [
            "TP - True Negative 6358\n",
            "FP - False Positive 1021\n",
            "FN - False Negative 1957\n",
            "TP - True Positive 1179\n",
            "Accuracy Rate: 0.7167855444602949\n",
            "Misclassification Rate: 0.2832144555397052\n"
          ],
          "name": "stdout"
        }
      ]
    },
    {
      "cell_type": "code",
      "metadata": {
        "id": "J1S4ZT01Rxzx",
        "colab_type": "code",
        "colab": {
          "base_uri": "https://localhost:8080/",
          "height": 664
        },
        "outputId": "70ac6fab-3d1c-4b2b-bc23-24ae308beac5"
      },
      "source": [
        "results = confusion_matrix(y_test, y_pred)\n",
        "plot_confusion_matrix(results, classes = ['Normal HDL', 'AbnomalHDL'], title = 'HDL Confusion Matrix')"
      ],
      "execution_count": 103,
      "outputs": [
        {
          "output_type": "stream",
          "text": [
            "Confusion matrix, without normalization\n",
            "[[6358 1021]\n",
            " [1957 1179]]\n"
          ],
          "name": "stdout"
        },
        {
          "output_type": "display_data",
          "data": {
            "image/png": "[encoded data removed]",
            "text/plain": [
              "<Figure size 720x720 with 2 Axes>"
            ]
          },
          "metadata": {
            "tags": []
          }
        }
      ]
    },
    {
      "cell_type": "code",
      "metadata": {
        "id": "HtKamXgp-KQy",
        "colab_type": "code",
        "outputId": "47e0761e-26eb-4de6-eaad-193f43bda29c",
        "colab": {
          "base_uri": "https://localhost:8080/",
          "height": 33
        }
      },
      "source": [
        "#check accuracy of the model on the test data\n",
        "knn_cv.score(X_test, y_test)\n",
        "print(\"Accuracy for knn:\", knn_cv.score(X_test, y_test)*100)"
      ],
      "execution_count": 124,
      "outputs": [
        {
          "output_type": "stream",
          "text": [
            "Accuracy for knn: 71.67855444602948\n"
          ],
          "name": "stdout"
        }
      ]
    },
    {
      "cell_type": "markdown",
      "metadata": {
        "id": "8KhW8yILwR68",
        "colab_type": "text"
      },
      "source": [
        "### **Using KNN methond, the accuracy score is about 71.68%. **"
      ]
    },
    {
      "cell_type": "markdown",
      "metadata": {
        "id": "sYssPguq4Bae",
        "colab_type": "text"
      },
      "source": [
        "## ** Logistic Regression**"
      ]
    },
    {
      "cell_type": "code",
      "metadata": {
        "id": "_-4CCg7p4DWQ",
        "colab_type": "code",
        "colab": {}
      },
      "source": [
        "from sklearn.linear_model import LogisticRegression\n",
        "from sklearn.metrics import accuracy_score \n",
        "from sklearn.model_selection import KFold\n",
        "cv= model_selection.KFold(n_splits=5, random_state=None)"
      ],
      "execution_count": 0,
      "outputs": []
    },
    {
      "cell_type": "code",
      "metadata": {
        "id": "85NI4wdq8ozz",
        "colab_type": "code",
        "outputId": "ffa65f94-f635-487b-d6dd-8d6cdce65787",
        "colab": {
          "base_uri": "https://localhost:8080/",
          "height": 33
        }
      },
      "source": [
        "# instantiate the model \n",
        "logreg = LogisticRegression()\n",
        "logreg.fit(X_train, y_train)\n",
        "# fit the model with data\n",
        "kfold = KFold(n_splits=5, random_state=42, shuffle=False) \n",
        "results=model_selection.cross_val_score(logreg,X_train,y_train,cv=kfold)\n",
        "print(\"Accuracy on cv dataset:\", results.mean()*100)"
      ],
      "execution_count": 132,
      "outputs": [
        {
          "output_type": "stream",
          "text": [
            "Accuracy on cv dataset: 75.10800356670767\n"
          ],
          "name": "stdout"
        }
      ]
    },
    {
      "cell_type": "code",
      "metadata": {
        "id": "kl5zbGpdBqOe",
        "colab_type": "code",
        "colab": {}
      },
      "source": [
        "#check accuracy of the logistic model on the test data\n",
        "pred = logreg.predict(X_test)"
      ],
      "execution_count": 0,
      "outputs": []
    },
    {
      "cell_type": "code",
      "metadata": {
        "id": "Mv8ymqLwYVFA",
        "colab_type": "code",
        "colab": {
          "base_uri": "https://localhost:8080/",
          "height": 117
        },
        "outputId": "b3a68f68-fdcd-43a5-e927-5ab4e39f46f0"
      },
      "source": [
        "# Print out confusion matrix\n",
        "cmat = confusion_matrix(y_test, pred)\n",
        "#print(cmat)\n",
        "print('TP - True Negative {}'.format(cmat[0,0]))\n",
        "print('FP - False Positive {}'.format(cmat[0,1]))\n",
        "print('FN - False Negative {}'.format(cmat[1,0]))\n",
        "print('TP - True Positive {}'.format(cmat[1,1]))\n",
        "print('Accuracy Rate: {}'.format(np.divide(np.sum([cmat[0,0],cmat[1,1]]),np.sum(cmat))))\n",
        "print('Misclassification Rate: {}'.format(np.divide(np.sum([cmat[0,1],cmat[1,0]]),np.sum(cmat))))"
      ],
      "execution_count": 134,
      "outputs": [
        {
          "output_type": "stream",
          "text": [
            "TP - True Negative 6836\n",
            "FP - False Positive 543\n",
            "FN - False Negative 2130\n",
            "TP - True Positive 1006\n",
            "Accuracy Rate: 0.7457917261055634\n",
            "Misclassification Rate: 0.2542082738944365\n"
          ],
          "name": "stdout"
        }
      ]
    },
    {
      "cell_type": "code",
      "metadata": {
        "id": "7wHlX6_gFahH",
        "colab_type": "code",
        "outputId": "7d852d3d-4a90-41ef-9d84-d2c49bf08fad",
        "colab": {
          "base_uri": "https://localhost:8080/",
          "height": 33
        }
      },
      "source": [
        "print(\"Accuracy for logtistic regression on test set:\", logreg.score(X_test, y_test)*100)"
      ],
      "execution_count": 67,
      "outputs": [
        {
          "output_type": "stream",
          "text": [
            "Accuracy for logtistic regression on test set: 74.57917261055634\n"
          ],
          "name": "stdout"
        }
      ]
    },
    {
      "cell_type": "markdown",
      "metadata": {
        "id": "895RXe3ZVWa7",
        "colab_type": "text"
      },
      "source": [
        "**Inspect the performance of a classification model is by making a confusion matrix:**"
      ]
    },
    {
      "cell_type": "code",
      "metadata": {
        "id": "tre0S1YjVR0u",
        "colab_type": "code",
        "colab": {}
      },
      "source": [
        "from sklearn.metrics import confusion_matrix\n",
        "import itertools\n",
        "\n",
        "def plot_confusion_matrix(cm, classes,\n",
        "                          normalize=False,\n",
        "                          title='Confusion matrix',\n",
        "                          cmap=plt.cm.Oranges):\n",
        "    \"\"\"\n",
        "    This function prints and plots the confusion matrix.\n",
        "    Normalization can be applied by setting `normalize=True`.\n",
        "    Source: http://scikit-learn.org/stable/auto_examples/model_selection/plot_confusion_matrix.html\n",
        "    \"\"\"\n",
        "    if normalize:\n",
        "        cm = cm.astype('float') / cm.sum(axis=1)[:, np.newaxis]\n",
        "        print(\"Normalized confusion matrix\")\n",
        "    else:\n",
        "        print('Confusion matrix, without normalization')\n",
        "\n",
        "    print(cm)\n",
        "\n",
        "    plt.figure(figsize = (10, 10))\n",
        "    plt.imshow(cm, interpolation='nearest', cmap=cmap)\n",
        "    plt.title(title, size = 24)\n",
        "    plt.colorbar(aspect=4)\n",
        "    tick_marks = np.arange(len(classes))\n",
        "    plt.xticks(tick_marks, classes, rotation=45, size = 14)\n",
        "    plt.yticks(tick_marks, classes, size = 14)\n",
        "\n",
        "    fmt = '.2f' if normalize else 'd'\n",
        "    thresh = cm.max() / 2.\n",
        "    \n",
        "    # Labeling the plot\n",
        "    for i, j in itertools.product(range(cm.shape[0]), range(cm.shape[1])):\n",
        "        plt.text(j, i, format(cm[i, j], fmt), fontsize = 20,\n",
        "                 horizontalalignment=\"center\",\n",
        "                 color=\"white\" if cm[i, j] > thresh else \"black\")\n",
        "        \n",
        "    plt.grid(None)\n",
        "    plt.tight_layout()\n",
        "    plt.ylabel('True label', size = 18)\n",
        "    plt.xlabel('Predicted label', size = 18)"
      ],
      "execution_count": 0,
      "outputs": []
    },
    {
      "cell_type": "code",
      "metadata": {
        "id": "YVvnBB6wUP86",
        "colab_type": "code",
        "outputId": "51be78b3-8604-46dc-9e81-eec614bcde5a",
        "colab": {
          "base_uri": "https://localhost:8080/",
          "height": 664
        }
      },
      "source": [
        "cm_log = confusion_matrix(y_test, y_pred)\n",
        "plot_confusion_matrix(cm_log, classes = ['Normal HDL', 'AbnomalHDL'], title = 'HDL Confusion Matrix')"
      ],
      "execution_count": 69,
      "outputs": [
        {
          "output_type": "stream",
          "text": [
            "Confusion matrix, without normalization\n",
            "[[6836  543]\n",
            " [2130 1006]]\n"
          ],
          "name": "stdout"
        },
        {
          "output_type": "display_data",
          "data": {
            "image/png": "[encoded data removed]",
            "text/plain": [
              "<Figure size 720x720 with 2 Axes>"
            ]
          },
          "metadata": {
            "tags": []
          }
        }
      ]
    },
    {
      "cell_type": "markdown",
      "metadata": {
        "id": "p3KU6UU-EM4S",
        "colab_type": "text"
      },
      "source": [
        "### **Using logistic regression methond, the accuracy score is 74.60%.**"
      ]
    },
    {
      "cell_type": "markdown",
      "metadata": {
        "id": "g2_Q3KhoF2Bw",
        "colab_type": "text"
      },
      "source": [
        "## **Support-vector machine**"
      ]
    },
    {
      "cell_type": "code",
      "metadata": {
        "id": "IpWGscIOxmJ2",
        "colab_type": "code",
        "colab": {}
      },
      "source": [
        "from sklearn.svm import SVR\n",
        "\n",
        "scores = []\n",
        "best_svr = SVR(kernel='rbf')"
      ],
      "execution_count": 0,
      "outputs": []
    },
    {
      "cell_type": "code",
      "metadata": {
        "id": "fietpVT1yMcH",
        "colab_type": "code",
        "colab": {}
      },
      "source": [
        "from sklearn.model_selection import cross_val_score\n",
        "cv_scores = cross_val_score(best_svr, X_train, y_train, cv=5)"
      ],
      "execution_count": 0,
      "outputs": []
    },
    {
      "cell_type": "code",
      "metadata": {
        "id": "m2SAfvXx04N-",
        "colab_type": "code",
        "outputId": "922af7c5-93ff-4977-ad2a-21b4942c20e7",
        "colab": {
          "base_uri": "https://localhost:8080/",
          "height": 33
        }
      },
      "source": [
        "# find the average of the 5 scores for the 5 fold cross validation dateset\n",
        "ave_svm= np.mean(cv_scores)\n",
        "print(ave_svm)"
      ],
      "execution_count": 107,
      "outputs": [
        {
          "output_type": "stream",
          "text": [
            "0.1018037677609189\n"
          ],
          "name": "stdout"
        }
      ]
    },
    {
      "cell_type": "code",
      "metadata": {
        "id": "xyE0yWUtGVbQ",
        "colab_type": "code",
        "outputId": "0d55e16f-1fee-4fd9-a34c-3908b3c9098a",
        "colab": {
          "base_uri": "https://localhost:8080/",
          "height": 67
        }
      },
      "source": [
        "#Build model on the training set\n",
        "\n",
        "best_svr.fit(X_train, y_train)"
      ],
      "execution_count": 108,
      "outputs": [
        {
          "output_type": "execute_result",
          "data": {
            "text/plain": [
              "SVR(C=1.0, cache_size=200, coef0=0.0, degree=3, epsilon=0.1,\n",
              "    gamma='auto_deprecated', kernel='rbf', max_iter=-1, shrinking=True,\n",
              "    tol=0.001, verbose=False)"
            ]
          },
          "metadata": {
            "tags": []
          },
          "execution_count": 108
        }
      ]
    },
    {
      "cell_type": "code",
      "metadata": {
        "id": "2qWLARDpHiaP",
        "colab_type": "code",
        "colab": {}
      },
      "source": [
        "#To predict on the test set\n",
        "y_pred = best_svr.predict(X_test)"
      ],
      "execution_count": 0,
      "outputs": []
    },
    {
      "cell_type": "code",
      "metadata": {
        "id": "6GrSQ-U3Hvf4",
        "colab_type": "code",
        "outputId": "5b70fcaf-cc50-4c24-a2bd-80cad27a4cae",
        "colab": {
          "base_uri": "https://localhost:8080/",
          "height": 33
        }
      },
      "source": [
        "#check accuracy of the SVM model on the test data\n",
        "print(\"Accuracy for SVM on test set:\", best_svr.score(X_test, y_test)*100)"
      ],
      "execution_count": 80,
      "outputs": [
        {
          "output_type": "stream",
          "text": [
            "Accuracy for SVM on test set: 8.78629019730407\n"
          ],
          "name": "stdout"
        }
      ]
    },
    {
      "cell_type": "markdown",
      "metadata": {
        "id": "xBqDyqTaIeJS",
        "colab_type": "text"
      },
      "source": [
        "### **Using SVM methond, the accuracy score is about 8.79%.**"
      ]
    },
    {
      "cell_type": "markdown",
      "metadata": {
        "id": "jgayuJIHIoNo",
        "colab_type": "text"
      },
      "source": [
        "## **Random forest**"
      ]
    },
    {
      "cell_type": "code",
      "metadata": {
        "id": "b_JVIxUz2N_Y",
        "colab_type": "code",
        "colab": {}
      },
      "source": [
        "from sklearn.ensemble import RandomForestRegressor\n",
        "# Instantiate model\n",
        "rf = RandomForestRegressor()"
      ],
      "execution_count": 0,
      "outputs": []
    },
    {
      "cell_type": "code",
      "metadata": {
        "id": "mmhHHjOP3YUX",
        "colab_type": "code",
        "outputId": "173e89d7-3a06-4600-f8f7-aa6c2699fc19",
        "colab": {
          "base_uri": "https://localhost:8080/",
          "height": 33
        }
      },
      "source": [
        "# find the average of the 5 scores\n",
        "cv_scores = cross_val_score(rf, X_train, y_train, cv=5)\n",
        "ave_rf = np.mean(cv_scores)\n",
        "print(ave_rf)"
      ],
      "execution_count": 86,
      "outputs": [
        {
          "output_type": "stream",
          "text": [
            "0.056059870367835773\n"
          ],
          "name": "stdout"
        }
      ]
    },
    {
      "cell_type": "code",
      "metadata": {
        "id": "Rf2GkgSGJxoZ",
        "colab_type": "code",
        "outputId": "66c64ac6-4b63-4465-c812-8ca6773739c6",
        "colab": {
          "base_uri": "https://localhost:8080/",
          "height": 134
        }
      },
      "source": [
        "#Build model on the training set\n",
        "rf.fit(X_train, y_train)"
      ],
      "execution_count": 87,
      "outputs": [
        {
          "output_type": "execute_result",
          "data": {
            "text/plain": [
              "RandomForestRegressor(bootstrap=True, criterion='mse', max_depth=None,\n",
              "                      max_features='auto', max_leaf_nodes=None,\n",
              "                      min_impurity_decrease=0.0, min_impurity_split=None,\n",
              "                      min_samples_leaf=1, min_samples_split=2,\n",
              "                      min_weight_fraction_leaf=0.0, n_estimators=10,\n",
              "                      n_jobs=None, oob_score=False, random_state=None,\n",
              "                      verbose=0, warm_start=False)"
            ]
          },
          "metadata": {
            "tags": []
          },
          "execution_count": 87
        }
      ]
    },
    {
      "cell_type": "code",
      "metadata": {
        "id": "nBhiMEYo57Lu",
        "colab_type": "code",
        "colab": {}
      },
      "source": [
        "#To predict on the test set\n",
        "y_pred = rf.predict(X_test)"
      ],
      "execution_count": 0,
      "outputs": []
    },
    {
      "cell_type": "code",
      "metadata": {
        "id": "bOi80oCvKKo9",
        "colab_type": "code",
        "outputId": "42a7b77b-443c-4cb7-a640-be7c5e80f79e",
        "colab": {
          "base_uri": "https://localhost:8080/",
          "height": 33
        }
      },
      "source": [
        "#check accuracy of the random forest model on the test data\n",
        "print(\"Accuracy for random forest on test set:\", rf.score(X_test, y_test)*100)"
      ],
      "execution_count": 89,
      "outputs": [
        {
          "output_type": "stream",
          "text": [
            "Accuracy for random forest on test set: 6.4641397367322\n"
          ],
          "name": "stdout"
        }
      ]
    },
    {
      "cell_type": "markdown",
      "metadata": {
        "id": "mMehyBZtKa23",
        "colab_type": "text"
      },
      "source": [
        "### **Using the random forest  methond, the accuracy score is about 6.46%.**"
      ]
    },
    {
      "cell_type": "markdown",
      "metadata": {
        "id": "b5pM_hX-KgMu",
        "colab_type": "text"
      },
      "source": [
        "### **In conclusion, logistic regression model has much better perfomance on prediction with the accuracy score 74.60%.**\n",
        "\n",
        "##** Therefore,  logistic regression model will be selected as the final model.\n",
        "\n"
      ]
    },
    {
      "cell_type": "markdown",
      "metadata": {
        "id": "TOT5qyg7dgP5",
        "colab_type": "text"
      },
      "source": [
        "###**find the optimum number of features, for which the accuracy is the highest. I do that by using loop starting with 1 feature and going up to 9. then take the one for which the accuracy is highest.**"
      ]
    },
    {
      "cell_type": "code",
      "metadata": {
        "id": "cj1aOG-CdqYe",
        "colab_type": "code",
        "colab": {
          "base_uri": "https://localhost:8080/",
          "height": 50
        },
        "outputId": "b094c7bc-a4ac-4267-bbf0-7e84d52d6ab4"
      },
      "source": [
        "#no of features\n",
        "nof_list=np.arange(1,9)            \n",
        "high_score=0\n",
        "#Variable to store the optimum features\n",
        "nof=0           \n",
        "score_list =[]\n",
        "for n in range(len(nof_list)):\n",
        "    X_train, X_test, y_train, y_test = train_test_split(X,y, test_size = 0.3, random_state = 0)\n",
        "    model = LogisticRegression()\n",
        "    rfe = RFE(model,nof_list[n])\n",
        "    X_train_rfe = rfe.fit_transform(X_train,y_train)\n",
        "    X_test_rfe = rfe.transform(X_test)\n",
        "    model.fit(X_train_rfe,y_train)\n",
        "    score = model.score(X_test_rfe,y_test)\n",
        "    score_list.append(score)\n",
        "    if(score>high_score):\n",
        "        high_score = score\n",
        "        nof = nof_list[n]\n",
        "print(\"Optimum number of features: %d\" %nof)\n",
        "print(\"Score with %d features: %f\" % (nof, high_score))"
      ],
      "execution_count": 143,
      "outputs": [
        {
          "output_type": "stream",
          "text": [
            "Optimum number of features: 5\n",
            "Score with 5 features: 0.751783\n"
          ],
          "name": "stdout"
        }
      ]
    },
    {
      "cell_type": "markdown",
      "metadata": {
        "id": "id67Qjc1eXon",
        "colab_type": "text"
      },
      "source": [
        "### **As seen from above code, the optimum number of features is 5. I now feed 5 as number of features to RFE and get the final set of features given by RFE method**\n",
        "\n",
        "###**Recursive Feature Elimination**\n",
        "\n",
        "The Recursive Feature Elimination (or RFE) works by recursively removing attributes and building a model on those attributes that remain.It uses the model accuracy to identify which attributes (and combination of attributes) contribute the most to predicting the target attribute."
      ]
    },
    {
      "cell_type": "code",
      "metadata": {
        "id": "Ze9l1Oljal9b",
        "colab_type": "code",
        "colab": {
          "base_uri": "https://localhost:8080/",
          "height": 67
        },
        "outputId": "7767595b-30f6-4ec2-f768-b6c6e014c56d"
      },
      "source": [
        "from sklearn.feature_selection import RFE\n",
        "# feature extraction\n",
        "model = LogisticRegression()\n",
        "rfe = RFE(model, 5)\n",
        "fit = rfe.fit(X_train, y_train)\n",
        "print(\"Num Features:\", fit.n_features_)\n",
        "print(\"Selected Features:\", fit.support_)\n",
        "print(\"Feature Ranking:\", fit.ranking_)"
      ],
      "execution_count": 155,
      "outputs": [
        {
          "output_type": "stream",
          "text": [
            "Num Features: 5\n",
            "Selected Features: [False  True  True False  True  True False False  True]\n",
            "Feature Ranking: [2 1 1 4 1 1 5 3 1]\n"
          ],
          "name": "stdout"
        }
      ]
    },
    {
      "cell_type": "code",
      "metadata": {
        "id": "oHcAxBcKfXKF",
        "colab_type": "code",
        "colab": {
          "base_uri": "https://localhost:8080/",
          "height": 33
        },
        "outputId": "2dce63b2-31e2-4f66-fabe-1d34f6f10f6d"
      },
      "source": [
        "cols = list(X_train.columns)\n",
        "model = LogisticRegression()\n",
        "#Initializing RFE model\n",
        "rfe = RFE(model, 5)             \n",
        "#Transforming data using RFE\n",
        "X_rfe = rfe.fit_transform(X_train,y_train)  \n",
        "#Fitting the data to model\n",
        "model.fit(X_rfe,y_train)              \n",
        "temp = pd.Series(rfe.support_,index = cols)\n",
        "selected_features_rfe = temp[temp==True].index\n",
        "print(selected_features_rfe)"
      ],
      "execution_count": 156,
      "outputs": [
        {
          "output_type": "stream",
          "text": [
            "Index(['BMI', 'tri', 'age', 'dia', 'alcohol'], dtype='object')\n"
          ],
          "name": "stdout"
        }
      ]
    },
    {
      "cell_type": "markdown",
      "metadata": {
        "id": "s3AVZKbloMCW",
        "colab_type": "text"
      },
      "source": [
        ""
      ]
    },
    {
      "cell_type": "markdown",
      "metadata": {
        "id": "U-Q8JxQWgH5i",
        "colab_type": "text"
      },
      "source": [
        "###**From the above output, we can see that RFE chose the the top 5 features as BMI, tri, age,dia and alcohol.These are marked True in the support_ array and marked with a choice “1” in the ranking_ array.**"
      ]
    },
    {
      "cell_type": "code",
      "metadata": {
        "id": "OpKljawLivG9",
        "colab_type": "code",
        "colab": {}
      },
      "source": [
        "# Keep only the five most important features in the data\n",
        "df1 = df.drop(['Sex','CRP','smok','phy'],axis=1)\n",
        "X = df1.drop(['hdl'],axis=1)\n",
        "y = df1['hdl']\n",
        "# create training and testing vars\n",
        "X_train, X_test, y_train, y_test = train_test_split(X, y, test_size = 0.3, random_state=12345)"
      ],
      "execution_count": 0,
      "outputs": []
    },
    {
      "cell_type": "code",
      "metadata": {
        "id": "c2JniE62oYvX",
        "colab_type": "code",
        "colab": {
          "base_uri": "https://localhost:8080/",
          "height": 33
        },
        "outputId": "4d406931-24c9-4abb-d365-d3c2f20e9d87"
      },
      "source": [
        "# instantiate the model \n",
        "logreg = LogisticRegression()\n",
        "logreg.fit(X_train, y_train)\n",
        "# fit the model with data\n",
        "kfold = KFold(n_splits=5, random_state=42, shuffle=False) \n",
        "results=model_selection.cross_val_score(logreg,X_train,y_train,cv=kfold)\n",
        "print(\"Accuracy on cv dataset:\", results.mean()*100)"
      ],
      "execution_count": 172,
      "outputs": [
        {
          "output_type": "stream",
          "text": [
            "Accuracy on cv dataset: 75.10393606444732\n"
          ],
          "name": "stdout"
        }
      ]
    },
    {
      "cell_type": "code",
      "metadata": {
        "id": "M0TJhD41oxH2",
        "colab_type": "code",
        "colab": {}
      },
      "source": [
        "pred = logreg.predict(X_test)"
      ],
      "execution_count": 0,
      "outputs": []
    },
    {
      "cell_type": "code",
      "metadata": {
        "id": "tKu2u27do5WN",
        "colab_type": "code",
        "colab": {
          "base_uri": "https://localhost:8080/",
          "height": 117
        },
        "outputId": "dac80a6b-fbeb-4930-8816-8714d04f5a4c"
      },
      "source": [
        "# Print out confusion matrix\n",
        "cmat = confusion_matrix(y_test, pred)\n",
        "#print(cmat)\n",
        "print('TP - True Negative {}'.format(cmat[0,0]))\n",
        "print('FP - False Positive {}'.format(cmat[0,1]))\n",
        "print('FN - False Negative {}'.format(cmat[1,0]))\n",
        "print('TP - True Positive {}'.format(cmat[1,1]))\n",
        "print('Accuracy Rate: {}'.format(np.divide(np.sum([cmat[0,0],cmat[1,1]]),np.sum(cmat))))\n",
        "print('Misclassification Rate: {}'.format(np.divide(np.sum([cmat[0,1],cmat[1,0]]),np.sum(cmat))))"
      ],
      "execution_count": 174,
      "outputs": [
        {
          "output_type": "stream",
          "text": [
            "TP - True Negative 6837\n",
            "FP - False Positive 542\n",
            "FN - False Negative 2145\n",
            "TP - True Positive 991\n",
            "Accuracy Rate: 0.7444602948169282\n",
            "Misclassification Rate: 0.2555397051830718\n"
          ],
          "name": "stdout"
        }
      ]
    },
    {
      "cell_type": "code",
      "metadata": {
        "id": "9v5943mnqAfk",
        "colab_type": "code",
        "colab": {
          "base_uri": "https://localhost:8080/",
          "height": 33
        },
        "outputId": "c10662f5-608b-4d3c-fa70-c080b9580e3f"
      },
      "source": [
        "from sklearn.metrics import roc_auc_score \n",
        "auc = roc_auc_score(y_test, pred)  \n",
        "print('AUC: %.2f' % auc) "
      ],
      "execution_count": 180,
      "outputs": [
        {
          "output_type": "stream",
          "text": [
            "AUC: 0.62\n"
          ],
          "name": "stdout"
        }
      ]
    },
    {
      "cell_type": "markdown",
      "metadata": {
        "id": "bvYnph4nqx6r",
        "colab_type": "text"
      },
      "source": [
        "## **Therefore, based on the logistic model, BMI, level of triglyceridestri, diabetes and alcohol consumption are important predictors to predict whether people have normal HDL level or not."
      ]
    },
    {
      "cell_type": "markdown",
      "metadata": {
        "id": "A667ANvGujFv",
        "colab_type": "text"
      },
      "source": [
        "##**Conclusions on the difference between ML methods, performance, sensitivity to parameter choices, ease-of-use **\n",
        "####1.KNN: \n",
        "\n",
        "######Advantages :\n",
        "K-NN is pretty intuitive and simple: K-NN algorithm is very simple to understand and equally easy to implement. K-NN has no assumptions. No Training Step.The classifier immediately adapts as we collect new training data. It allows the algorithm to respond quickly to changes in the input during real-time use.Very easy to implement for multi-class problem.Can be used both for Classification and Regression: One of the biggest advantages of K-NN is that K-NN can be used both for classification and regression problems.Variety of distance criteria to be choose from: K-NN algorithm gives user the flexibility to choose distance while building K-NN model.\n",
        "\n",
        "######Disadvantages :\n",
        "K-NN slow algorithm.Curse of Dimensionality: KNN works well with small number of input variables but as the numbers of variables grow K-NN algorithm struggles to predict the output of new data point.\n",
        "K-NN needs homogeneous features.Optimal number of neighbors: One of the biggest issues with K-NN is to choose the optimal number of neighbors to be consider while classifying the new data entry.\n",
        "Imbalanced data causes problems: k-NN doesn’t perform well on imbalanced data. Outlier sensitivity: K-NN algorithm is very sensitive to outliers as it simply chose the neighbors based on distance criteria.\n",
        "Missing Value treatment: K-NN inherently has no capability of dealing with missing value problem.\n",
        " \n",
        "####2.Logistic regression: \n",
        "\n",
        "######Advantages :\n",
        "Easy, fast and simple classification method.\n",
        "θ parameters explains the direction and intensity of significance of independent variables over the dependent variable.\n",
        "Can be used for multiclass classifications also.\n",
        "Loss function is always convex.\n",
        "#####Disadvantages :\n",
        "Cannot be applied on non-linear classification problems.\n",
        "Proper selection of features is required.\n",
        "Good signal to noise ratio is expected.\n",
        "Colinearity and outliers tampers the accuracy of LR model.\n",
        "\n",
        "\n",
        "#### 3. SVM\n",
        "\n",
        "#####Advantages:\n",
        "SVM’s are very good when we have no idea on the data.\n",
        "Works well with even unstructured and semi structured data like text, Images and trees.\n",
        "The kernel trick is real strength of SVM. With an appropriate kernel function, we can solve any complex problem.\n",
        "Unlike in neural networks, SVM is not solved for local optima.\n",
        "It scales relatively well to high dimensional data.\n",
        "SVM models have generalization in practice, the risk of over-fitting is less in SVM.\n",
        "SVM is always compared with ANN. When compared to ANN models, SVMs give better results.\n",
        "\n",
        "#####Disadvantages:\n",
        "Choosing a “good” kernel function is not easy.\n",
        "Long training time for large datasets.\n",
        "Difficult to understand and interpret the final model, variable weights and individual impact.\n",
        "Since the final model is not so easy to see, we can not do small calibrations to the model hence its tough to incorporate our business logic.\n",
        "The SVM hyper parameters are Cost -C and gamma. It is not that easy to fine-tune these hyper-parameters. It is hard to visualize their impact\n",
        "\n",
        "\n",
        "#### 4. Random forest \n",
        "#####Advantages:\n",
        "It can be used for both regression and classification tasks and that it’s easy to view the relative importance it assigns to the input features.\n",
        "\n",
        "Random Forest is also considered as a very handy and easy to use algorithm, because it’s default hyperparameters often produce a good prediction result. The number of hyperparameters is also not that high and they are straightforward to understand.\n",
        "#####Disadvantages:\n",
        "One of the big problems in machine learning is overfitting, but most of the time this won’t happen that easy to a random forest classifier.\n",
        "The main limitation of Random Forest is that a large number of trees can make the algorithm to slow and ineffective for real-time predictions. In general, these algorithms are fast to train, but quite slow to create predictions once they are trained. A more accurate prediction requires more trees, which results in a slower model.\n"
      ]
    }
  ]
}